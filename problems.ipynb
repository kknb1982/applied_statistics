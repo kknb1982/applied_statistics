{
 "cells": [
  {
   "cell_type": "markdown",
   "id": "4f585126-c302-45d0-8a75-d0e59d94874b",
   "metadata": {},
   "source": [
    "# Problems Notebook for Applied Statistics 2025\n",
    "The notebook summarizes my journey towards solving four problems set as part of the Applied Statistics module in the HDip in Computer Science and Data Analytics. The problems are:\n",
    "\n",
    "1. Extending the Lady Tasting Tea Experiment\n",
    "2. Normal distribution\n",
    "3. t-Tests\n",
    "4. ANOVA\n",
    " \n",
    "## Standard packages used across the problems\n",
    "\n",
    "\n"
   ]
  },
  {
   "cell_type": "markdown",
   "id": "56cc321d",
   "metadata": {},
   "source": [
    "`ipython`(https://ipython.org/)\n",
    "\n"
   ]
  },
  {
   "cell_type": "markdown",
   "id": "b17a4eb4",
   "metadata": {},
   "source": [
    "`Numpy` is the standard package used for scientific computing in Python ([see the manual](https://numpy.org/doc/2.3/)). Numpy makes it easier to work with your data using [arrays](https://numpy.org/doc/2.3/user/absolute_beginners.html) to handle and understand your data."
   ]
  },
  {
   "cell_type": "markdown",
   "id": "4358c385",
   "metadata": {},
   "source": [
    "\n",
    "\n",
    "`scipy`\n",
    "\n",
    "`statsmodels`"
   ]
  },
  {
   "cell_type": "markdown",
   "id": "13e5d8cb",
   "metadata": {},
   "source": [
    "\n",
    "`matplotlib` is a commmonly used package for creating visualisations of data in Python(https://matplotlib.org/stable/index.html). Visualisation of the data \n",
    "\n",
    "`pandas`enables to the analysis and manipualtion of data (https://pandas.pydata.org/docs/). It is commonly used for working with tabular data.\n"
   ]
  },
  {
   "cell_type": "markdown",
   "id": "b32b9879",
   "metadata": {},
   "source": [
    "`seaborn`\n",
    "`sympy`\n",
    "`nose`\n",
    "`scikit-learn`\n",
    "`qiskit[visualization]`\n",
    "`yfinance`"
   ]
  },
  {
   "cell_type": "code",
   "execution_count": null,
   "id": "1ee6b8c1-68ee-43dc-8f34-f5d202c2b65d",
   "metadata": {},
   "outputs": [],
   "source": [
    "# Import the numpy library\n",
    "import numpy as np"
   ]
  },
  {
   "cell_type": "markdown",
   "id": "61e7c44c-f2af-4250-acf0-10c57ed2ba60",
   "metadata": {},
   "source": [
    "## Problem 1: Extending the Lady Tasting Tea\n",
    "Let's extend the Lady Tasting Tea experiment as follows. The original experiment has 8 cups: 4 tea-first and 4 milk-first. Suppose we prepare 12 cups: 8 tea-first and 4 milk-first. A participant claims they can tell which was poured first.\n",
    "\n",
    "Simulate this experiment using numpy by randomly shuffling the cups many times and calculating the probability of the participant correctly identifying all cups by chance. Compare your result with the original 8-cup experiment.\n",
    "\n",
    "In your notebook, explain your simulation process clearly, report and interpret the estimated probability, and discuss whether, based on this probability, you would consider extending or relaxing the p-value threshold compared to the original design.\n",
    "\n"
   ]
  },
  {
   "cell_type": "markdown",
   "id": "cb013a5f-3c92-4587-b422-35916fb4adeb",
   "metadata": {},
   "source": [
    "## Problem 2: Normal Distribution\n",
    "\n",
    "Generate 100,000 samples of size 10 from the standard normal distribution. For each sample, compute the standard deviation with ddof=1 (sample SD) and with ddof=0 (population SD). Plot histograms of both sets of values on the same axes with transparency. Describe the differences you see. Explain how you expect these differences to change if the sample size is increased."
   ]
  },
  {
   "cell_type": "markdown",
   "id": "bcce6b84-00ed-4c65-bf40-3773f6971c93",
   "metadata": {},
   "source": [
    "## Problem 3: t-Tests\n",
    "\n",
    "A type II error occurs when a test fails to reject the null hypothesis even though it is false. For each mean difference \n",
    "d=0,0.1,0.2,…,1.0, repeat the following simulation 1,000 times:\n",
    "\n",
    "1. Draw two samples of size 100, one from the standard normal distribution and one from the normal distribution with mean d and standard deviation 1.\n",
    "2. Run an independent samples t-test on the two samples, rejecting the null hypothesis if the p-value is less than 0.05.\n",
    "3. Record the proportion of times the null hypothesis is not rejected.\n",
    "Plot this proportion against d, and explain how the type II error rate changes as the difference in means increases.\n",
    "\n"
   ]
  },
  {
   "cell_type": "markdown",
   "id": "832c2fd4-bf07-440c-a066-9829d52a4e6d",
   "metadata": {},
   "source": [
    "## Problem 4: ANOVA\n",
    "Generate three independent samples, each of size 30, from normal distributions with means 0, 0.5, and 1, each with standard deviation 1.\n",
    "\n",
    "1. Perform a one-way ANOVA to test whether all three means are equal.\n",
    "2. Perform three independent two-sample t-tests: samples 1 vs 2, 1 vs 3, and 2 vs 3.\n",
    "Compare the conclusions.\n",
    "3. Write a short note on why ANOVA is preferred over running several t-tests."
   ]
  },
  {
   "cell_type": "markdown",
   "id": "fe82da6b-9e7a-4dc5-abaf-987693c2c656",
   "metadata": {},
   "source": [
    "## End"
   ]
  }
 ],
 "metadata": {
  "kernelspec": {
   "display_name": "Python 3 (ipykernel)",
   "language": "python",
   "name": "python3"
  },
  "language_info": {
   "codemirror_mode": {
    "name": "ipython",
    "version": 3
   },
   "file_extension": ".py",
   "mimetype": "text/x-python",
   "name": "python",
   "nbconvert_exporter": "python",
   "pygments_lexer": "ipython3",
   "version": "3.12.4"
  }
 },
 "nbformat": 4,
 "nbformat_minor": 5
}
